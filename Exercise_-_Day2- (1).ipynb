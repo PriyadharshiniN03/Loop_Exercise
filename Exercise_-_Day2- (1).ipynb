{
 "cells": [
  {
   "cell_type": "markdown",
   "metadata": {},
   "source": [
    "### The questions for the exercises are given above the cells and the expected output is given below the cell. Please type the code inserting a new cell below the question because if you run the expected output cell the output would vanish! Happy learning! "
   ]
  },
  {
   "cell_type": "markdown",
   "metadata": {},
   "source": [
    "## 1. Write a Python program to count the number of even and odd numbers from a series of numbers."
   ]
  },
  {
   "cell_type": "code",
   "execution_count": 4,
   "metadata": {},
   "outputs": [
    {
     "name": "stdout",
     "output_type": "stream",
     "text": [
      "Number of even numbers : 4\n",
      "Number of odd numbers : 5\n"
     ]
    }
   ],
   "source": []
  },
  {
   "cell_type": "code",
   "execution_count": 9,
   "metadata": {},
   "outputs": [
    {
     "name": "stdout",
     "output_type": "stream",
     "text": [
      "Number of even numbers : 4\n",
      "Number of odd numbers : 5\n"
     ]
    }
   ],
   "source": [
    "list1 = [1,2,3,4,5,6,7,8,9]\n",
    "countEven = 0\n",
    "countOdd = 0\n",
    "for i in (list1):\n",
    "    if i%2 == 0:\n",
    "        countEven = countEven + 1\n",
    "    else:\n",
    "        countOdd = countOdd + 1\n",
    "print (\"Number of even numbers : \" + str(countEven))\n",
    "print (\"Number of odd numbers : \" + str(countOdd))"
   ]
  },
  {
   "cell_type": "markdown",
   "metadata": {},
   "source": [
    "## 2. Write a Python program to find numbers between 100 and 400 (both included) where each digit of a number is an even number. The numbers obtained should be printed in a comma-separated sequence."
   ]
  },
  {
   "cell_type": "code",
   "execution_count": 15,
   "metadata": {},
   "outputs": [
    {
     "name": "stdout",
     "output_type": "stream",
     "text": [
      "100,\n",
      "102,\n",
      "104,\n",
      "106,\n",
      "108,\n",
      "110,\n",
      "112,\n",
      "114,\n",
      "116,\n",
      "118,\n",
      "120,\n",
      "122,\n",
      "124,\n",
      "126,\n",
      "128,\n",
      "130,\n",
      "132,\n",
      "134,\n",
      "136,\n",
      "138,\n",
      "140,\n",
      "142,\n",
      "144,\n",
      "146,\n",
      "148,\n",
      "150,\n",
      "152,\n",
      "154,\n",
      "156,\n",
      "158,\n",
      "160,\n",
      "162,\n",
      "164,\n",
      "166,\n",
      "168,\n",
      "170,\n",
      "172,\n",
      "174,\n",
      "176,\n",
      "178,\n",
      "180,\n",
      "182,\n",
      "184,\n",
      "186,\n",
      "188,\n",
      "190,\n",
      "192,\n",
      "194,\n",
      "196,\n",
      "198,\n",
      "200,\n",
      "202,\n",
      "204,\n",
      "206,\n",
      "208,\n",
      "210,\n",
      "212,\n",
      "214,\n",
      "216,\n",
      "218,\n",
      "220,\n",
      "222,\n",
      "224,\n",
      "226,\n",
      "228,\n",
      "230,\n",
      "232,\n",
      "234,\n",
      "236,\n",
      "238,\n",
      "240,\n",
      "242,\n",
      "244,\n",
      "246,\n",
      "248,\n",
      "250,\n",
      "252,\n",
      "254,\n",
      "256,\n",
      "258,\n",
      "260,\n",
      "262,\n",
      "264,\n",
      "266,\n",
      "268,\n",
      "270,\n",
      "272,\n",
      "274,\n",
      "276,\n",
      "278,\n",
      "280,\n",
      "282,\n",
      "284,\n",
      "286,\n",
      "288,\n",
      "290,\n",
      "292,\n",
      "294,\n",
      "296,\n",
      "298,\n",
      "300,\n",
      "302,\n",
      "304,\n",
      "306,\n",
      "308,\n",
      "310,\n",
      "312,\n",
      "314,\n",
      "316,\n",
      "318,\n",
      "320,\n",
      "322,\n",
      "324,\n",
      "326,\n",
      "328,\n",
      "330,\n",
      "332,\n",
      "334,\n",
      "336,\n",
      "338,\n",
      "340,\n",
      "342,\n",
      "344,\n",
      "346,\n",
      "348,\n",
      "350,\n",
      "352,\n",
      "354,\n",
      "356,\n",
      "358,\n",
      "360,\n",
      "362,\n",
      "364,\n",
      "366,\n",
      "368,\n",
      "370,\n",
      "372,\n",
      "374,\n",
      "376,\n",
      "378,\n",
      "380,\n",
      "382,\n",
      "384,\n",
      "386,\n",
      "388,\n",
      "390,\n",
      "392,\n",
      "394,\n",
      "396,\n",
      "398,\n",
      "400,\n"
     ]
    }
   ],
   "source": [
    "for i in range(100,401):\n",
    "    if i%2 == 0:\n",
    "        print (str(i)+\",\")"
   ]
  },
  {
   "cell_type": "markdown",
   "metadata": {},
   "source": [
    "## 3. Write a Python program to calculate a dog's age in dog's years. Go to the editor\n",
    "Note: For the first two years, a dog year is equal to 10.5 human years. After that, each dog year equals 4 human years."
   ]
  },
  {
   "cell_type": "code",
   "execution_count": 7,
   "metadata": {},
   "outputs": [
    {
     "name": "stdout",
     "output_type": "stream",
     "text": [
      "Input a dog's age in human years: 20\n",
      "The dog's age in dog's years is 93\n"
     ]
    }
   ],
   "source": []
  },
  {
   "cell_type": "code",
   "execution_count": 4,
   "metadata": {},
   "outputs": [
    {
     "name": "stdout",
     "output_type": "stream",
     "text": [
      "Input a dog's age in human years: 20.0\n",
      "The dog's age in dog's years is 93.0\n"
     ]
    }
   ],
   "source": [
    "age = float(20)\n",
    "if age <= 2:\n",
    "    Dage = age * 10.5\n",
    "elif age > 2:\n",
    "    Dage = (age - 2)*4 + 21\n",
    "\n",
    "print(\"Input a dog's age in human years: \" + str(age))\n",
    "print(\"The dog's age in dog's years is \" + str(Dage))\n",
    "    "
   ]
  },
  {
   "cell_type": "markdown",
   "metadata": {},
   "source": [
    "## 4. Write a Python function that takes a number as a parameter and check the number is prime or not."
   ]
  },
  {
   "cell_type": "code",
   "execution_count": 11,
   "metadata": {},
   "outputs": [
    {
     "name": "stdout",
     "output_type": "stream",
     "text": [
      "The number is: 9\n",
      "False\n"
     ]
    }
   ],
   "source": []
  },
  {
   "cell_type": "code",
   "execution_count": 8,
   "metadata": {},
   "outputs": [],
   "source": [
    "def checkprime(num):\n",
    "    for i in range(2,num):\n",
    "        if(num%i == 0):\n",
    "            return False\n",
    "        else:\n",
    "            return True"
   ]
  },
  {
   "cell_type": "code",
   "execution_count": 16,
   "metadata": {},
   "outputs": [
    {
     "data": {
      "text/plain": [
       "True"
      ]
     },
     "execution_count": 16,
     "metadata": {},
     "output_type": "execute_result"
    }
   ],
   "source": [
    "checkprime(61)"
   ]
  },
  {
   "cell_type": "markdown",
   "metadata": {},
   "source": [
    "## 5. Write a Python function that accepts a string and calculate the number of upper case letters and lower case letters. Go to the editor\n"
   ]
  },
  {
   "cell_type": "code",
   "execution_count": 13,
   "metadata": {},
   "outputs": [
    {
     "name": "stdout",
     "output_type": "stream",
     "text": [
      "Original String :  Inceptz is One of The BeSt Places TO LEarn DataSciEnce\n",
      "No. of Upper case characters :  13\n",
      "No. of Lower case Characters :  32\n"
     ]
    }
   ],
   "source": []
  },
  {
   "cell_type": "code",
   "execution_count": 25,
   "metadata": {},
   "outputs": [
    {
     "name": "stdout",
     "output_type": "stream",
     "text": [
      "No. of Upper case characters :  13\n",
      "No. of Lower case characters :  32\n"
     ]
    }
   ],
   "source": [
    "str1 = \"Inceptz is One of The BeSt Places TO LEarn DataSciEnce\"\n",
    "Upper = 0\n",
    "Lower = 0\n",
    "for i in str1:\n",
    "    if(i>=\"A\" and i<=\"Z\"):\n",
    "        Upper = Upper+1\n",
    "    if(i>=\"a\" and i<=\"z\"):\n",
    "        Lower = Lower+1\n",
    "\n",
    "print (\"No. of Upper case characters : \",Upper)\n",
    "print (\"No. of Lower case characters : \",Lower)"
   ]
  },
  {
   "cell_type": "markdown",
   "metadata": {},
   "source": [
    "## 6. Write a Python program to reverse a string. "
   ]
  },
  {
   "cell_type": "code",
   "execution_count": 19,
   "metadata": {},
   "outputs": [
    {
     "name": "stdout",
     "output_type": "stream",
     "text": [
      "The original string is: 1234abcd\n",
      "The reversed string: dcba4321\n"
     ]
    }
   ],
   "source": []
  },
  {
   "cell_type": "code",
   "execution_count": 30,
   "metadata": {},
   "outputs": [
    {
     "data": {
      "text/plain": [
       "'dcba4321'"
      ]
     },
     "execution_count": 30,
     "metadata": {},
     "output_type": "execute_result"
    }
   ],
   "source": [
    "str2 = \"1234abcd\"\n",
    "str3 = str2[::-1]\n",
    "str3"
   ]
  },
  {
   "cell_type": "markdown",
   "metadata": {},
   "source": [
    "## 7. Write a Python program to find  the greatest common divisor (gcd) of two integers."
   ]
  },
  {
   "cell_type": "code",
   "execution_count": 18,
   "metadata": {},
   "outputs": [
    {
     "name": "stdout",
     "output_type": "stream",
     "text": [
      "The two numbers are: (12, 14)\n",
      "The GCD of the numbers are: 2\n"
     ]
    }
   ],
   "source": []
  },
  {
   "cell_type": "code",
   "execution_count": 37,
   "metadata": {},
   "outputs": [],
   "source": [
    "#recursive function\n",
    "def gcd(a,b):\n",
    "    if(b==0):\n",
    "        return a\n",
    "    else:\n",
    "        return gcd(b,b%a)"
   ]
  },
  {
   "cell_type": "code",
   "execution_count": 38,
   "metadata": {},
   "outputs": [
    {
     "data": {
      "text/plain": [
       "2"
      ]
     },
     "execution_count": 38,
     "metadata": {},
     "output_type": "execute_result"
    }
   ],
   "source": [
    "gcd(12,14)"
   ]
  },
  {
   "cell_type": "code",
   "execution_count": null,
   "metadata": {},
   "outputs": [],
   "source": []
  }
 ],
 "metadata": {
  "kernelspec": {
   "display_name": "Python 3",
   "language": "python",
   "name": "python3"
  },
  "language_info": {
   "codemirror_mode": {
    "name": "ipython",
    "version": 3
   },
   "file_extension": ".py",
   "mimetype": "text/x-python",
   "name": "python",
   "nbconvert_exporter": "python",
   "pygments_lexer": "ipython3",
   "version": "3.8.5"
  }
 },
 "nbformat": 4,
 "nbformat_minor": 4
}
